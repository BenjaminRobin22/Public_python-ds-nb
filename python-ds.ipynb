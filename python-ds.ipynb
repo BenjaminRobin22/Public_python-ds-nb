{
 "cells": [
  {
   "cell_type": "markdown",
   "metadata": {},
   "source": [
    "# Web Mining and Applied NLP (44-620)\n",
    "\n",
    "## Python Notebooks, Basics, and Data Structures\n",
    "\n",
    "### Student Name: Benjamin Robin\n",
    "\n",
    "### Repo Link https://github.com/BenjaminRobin22/csis-dspython\n",
    "\n",
    "Perform the tasks described in the Markdown cells below.  When you have completed the assignment make sure your code cells have all been run (and have output beneath them) and ensure you have committed and pushed ALL of your changes to your assignment repository.\n",
    "\n",
    "Every question that requires you to write code will have a code cell underneath it; you may either write your entire solution in that cell or write it in a python file (`.py`), then import and run the appropriate code to answer the question.\n",
    "\n",
    "Do not use external modules (`math`, etc) for this assignment unless you are explicitly instructed to, though you may use built in python functions (`min`, `max`, etc) as you wish."
   ]
  },
  {
   "cell_type": "markdown",
   "metadata": {},
   "source": [
    "1. Modify the Markdown cell above to put your name after \"Student Name:\"; you will be expected to do this in all assignments presented in this format for this class."
   ]
  },
  {
   "cell_type": "markdown",
   "metadata": {},
   "source": [
    "2. Write code that divides any two numbers, stores the result in a variable, and prints the result with an appropriate label."
   ]
  },
  {
   "cell_type": "code",
   "execution_count": 4,
   "metadata": {},
   "outputs": [
    {
     "name": "stdout",
     "output_type": "stream",
     "text": [
      "The answer to four divied by 2 is 2.0\n"
     ]
    }
   ],
   "source": [
    "result = 4/2\n",
    "print ('The answer to four divied by 2 is', result)\n",
    "\n",
    "       "
   ]
  },
  {
   "cell_type": "markdown",
   "metadata": {},
   "source": [
    "3. Using loops (and potentially conditionals), write Python code that prints the factorial of each integer from 1 through 10 (which you can store in a variable if you want). The factorial of an integer is the product of all of the integers of 1 through the number. Print the result with an appropriate label."
   ]
  },
  {
   "cell_type": "code",
   "execution_count": 10,
   "metadata": {},
   "outputs": [
    {
     "name": "stdout",
     "output_type": "stream",
     "text": [
      "Factorial of 1: 1\n",
      "Factorial of 2: 2\n",
      "Factorial of 3: 6\n",
      "Factorial of 4: 24\n",
      "Factorial of 5: 120\n",
      "Factorial of 6: 720\n",
      "Factorial of 7: 5040\n",
      "Factorial of 8: 40320\n",
      "Factorial of 9: 362880\n",
      "Factorial of 10: 3628800\n"
     ]
    }
   ],
   "source": [
    "# Function to calculate factorial Ben Robin's work\n",
    "def factorial(n):\n",
    "    result = 1\n",
    "    for i in range(1, n + 1):\n",
    "        result *= i\n",
    "    return result\n",
    "\n",
    "# Loop through integers from 1 to 10 and print their factorial\n",
    "for num in range(1, 11):\n",
    "    fact = factorial(num)\n",
    "    print(f\"Factorial of {num}: {fact}\")"
   ]
  },
  {
   "cell_type": "markdown",
   "metadata": {},
   "source": [
    "4. Write a python function that takes a single parameter and calculates and returns the average (mean) of the values in the parameter (which you may assume is iterable).  Show that your function works by printing the result of calling the function on the list in the cell below."
   ]
  },
  {
   "cell_type": "code",
   "execution_count": 16,
   "metadata": {},
   "outputs": [
    {
     "name": "stdout",
     "output_type": "stream",
     "text": [
      "Average for list: [1, -1, 2, -2, 3, -3, 4, -4] is 0.0\n"
     ]
    }
   ],
   "source": [
    "def calculate_average(avg):\n",
    "\n",
    "    total = sum(avg)\n",
    "    return total / len(avg)\n",
    "\n",
    "# Test list\n",
    "testlist = [1, -1, 2, -2, 3, -3, 4, -4]\n",
    "\n",
    "# Calculate and print the average\n",
    "average = calculate_average(testlist)\n",
    "print(\"Average for list:\",testlist,\"is\",average)"
   ]
  },
  {
   "cell_type": "code",
   "execution_count": 17,
   "metadata": {},
   "outputs": [
    {
     "name": "stdout",
     "output_type": "stream",
     "text": [
      "Average for list: [1, -5, 2, -4, 3, -7, 4, -4] is -1.25\n"
     ]
    }
   ],
   "source": [
    "def calculate_average(avg):\n",
    "\n",
    "    total = sum(avg)\n",
    "    return total / len(avg)\n",
    "\n",
    "# Test list\n",
    "testlist = [1, -5, 2, -4, 3, -7, 4, -4]\n",
    "\n",
    "# Calculate and print the average\n",
    "average = calculate_average(testlist)\n",
    "print(\"Average for list:\",testlist,\"is\",average)"
   ]
  },
  {
   "cell_type": "markdown",
   "metadata": {},
   "source": [
    "5. Using your mean function above, write a function that calculates the variance of the list of numbers (see https://en.wikipedia.org/wiki/Variance for more information on the formula). In short:\n",
    "*. subtract the mean of the elements in the list from every element in the list; store these values in a new list\n",
    "* square every element in the new list and sum the elements together\n",
    "* divide the resulting number by N (where N is the length of the original list)\n",
    "\n",
    "Show the result of calling your function in the lists in the code cell. You must use one or more list comprehensions or map/filter in your code.\n"
   ]
  },
  {
   "cell_type": "code",
   "execution_count": 31,
   "metadata": {},
   "outputs": [
    {
     "name": "stdout",
     "output_type": "stream",
     "text": [
      "Variance of the first list: [1, 2, 3, 4, 5] is 2.0\n",
      "Variance of the second list: [1, -1, 2, -2, 3, -3, 4, -4] is 7.5\n"
     ]
    }
   ],
   "source": [
    "def calculate_variance(numbers):\n",
    "    \n",
    "    # Calculate the mean\n",
    "    mean = sum(numbers) / len(numbers)\n",
    "    \n",
    "    # Subtract the mean from every element and store these values in a new list\n",
    "    dif = [(x - mean) for x in numbers]\n",
    "    \n",
    "    # Square every element in the new list and sum the elements together\n",
    "    square_dif_sum = sum([(x ** 2) for x in dif])\n",
    "    \n",
    "    # Divide the resulting number by N\n",
    "    variance = square_dif_sum / len(numbers)\n",
    "    \n",
    "    return variance\n",
    "\n",
    "# Test lists\n",
    "List_1 = [1, 2, 3, 4, 5]\n",
    "List_2 = [1, -1, 2, -2, 3, -3, 4, -4]\n",
    "\n",
    "# Calculate and print the variance for each test list\n",
    "variance_1 = calculate_variance(List_1)\n",
    "variance_2 = calculate_variance(List_2)\n",
    "#printing the results \n",
    "print(\"Variance of the first list:\",List_1,\"is\", variance_1)\n",
    "print(\"Variance of the second list:\",List_2, \"is\", variance2)\n",
    "    "
   ]
  },
  {
   "cell_type": "markdown",
   "metadata": {},
   "source": [
    "6. Create a list with at least 15 elements in it. Use list slicing to print the following:\n",
    "* The first 5 elements of the list\n",
    "* The last 5 elements of the list\n",
    "* The list reversed (hint, show the entire list with a stride of -1)\n",
    "* Every second element in the list\n",
    "* Every third element in the list (stride of 3)"
   ]
  },
  {
   "cell_type": "code",
   "execution_count": 40,
   "metadata": {},
   "outputs": [
    {
     "name": "stdout",
     "output_type": "stream",
     "text": [
      "The first 5 elements of the list: [1, 2, 3, 4, 5]\n",
      "The last 5 elements of the list: [11, 12, 13, 14, 15]\n",
      "The list reversed: [15, 14, 13, 12, 11, 10, 9, 8, 7, 6, 5, 4, 3, 2, 1]\n",
      "Every second element in the list: [1, 3, 5, 7, 9, 11, 13, 15]\n",
      "Every third element in the list: [1, 4, 7, 10, 13]\n"
     ]
    }
   ],
   "source": [
    "List_15 = [1,2,3,4,5,6,7,8,9,10,11,12,13,14,15]\n",
    "#printing first 5\n",
    "print(\"The first 5 elements of the list:\",List_15[:5])\n",
    "#printing last 5\n",
    "print(\"The last 5 elements of the list:\",List_15[-5:])\n",
    "#printing reversed\n",
    "print(\"The list reversed:\",List_15[::-1])\n",
    "#printing every 2nd element\n",
    "print(\"Every second element in the list:\",List_15[::2])\n",
    "#printing every 3rd element\n",
    "print(\"Every third element in the list:\",List_15[::3])\n",
    "\n"
   ]
  },
  {
   "cell_type": "markdown",
   "metadata": {},
   "source": [
    "7. Build a dictionary that contains the following information about this class (with appropriate names as keys):\n",
    "* The name\n",
    "* The course number\n",
    "* The semester/term in which you are taking this course\n",
    "* The number of credit hours this course counts for\n",
    "* A list of the course learning objectives\n",
    "\n",
    "The majority of this information can be found in the syllabus. Print the dictionary."
   ]
  },
  {
   "cell_type": "code",
   "execution_count": 46,
   "metadata": {},
   "outputs": [
    {
     "name": "stdout",
     "output_type": "stream",
     "text": [
      "{'Course Name': 'WebMinningAndAppliedNLP', 'Course #:': '44-620-8081', 'Semester/Term:': 'Spring-24', 'Credits:': '3', 'List of Course Objectives:': ['Demonstrate a common Git workflow. (CO2)', 'Install Python packages in a Virtual Environment. (CO1)', 'Demonstrate basic Python competency (CO3, CO5)', 'Work with Python Data Structures  (CO3, CO5)', 'Interact with Python Notebooks (CO1, CO2, CO3, CO5)', 'Use Git to manage source code. (CO2)', 'Visualize common types of data with Matplotlib. (CO2, CO6)', 'Explain conclusions drawn from visualizations. (CO6)', 'Describe how to embed advanced visualizations in Notebooks, such as those in D3.js. (CO1, CO3, CO5, CO6)', 'Describe the characteristics of JSON. (CO3)', 'Describe a basic Natural Language Processing Pipeline. (CO4)', 'Access web-based APIs for data. (CO2, CO3)', 'Apply basic NLP and visualize result. (CO3, CO5, CO6)', 'Describe the characteristics of XML/HTML and CSS. (CO3)', 'Identify elements of a web page. (CO3)', 'Build on core course concepts though the final project. (CO1, CO2, CO3, CO4, CO5, CO6)']}\n"
     ]
    }
   ],
   "source": [
    "Current_Class = { \"Course Name\": \"WebMinningAndAppliedNLP\", \n",
    "                 \"Course #:\":\"44-620-8081\",\n",
    "                 \"Semester/Term:\":\"Spring-24\",\n",
    "                 \"Credits:\":\"3\",\n",
    "                 \"List of Course Objectives:\": [\"Demonstrate a common Git workflow. (CO2)\",\"Install Python packages in a Virtual Environment. (CO1)\",\"Demonstrate basic Python competency (CO3, CO5)\",\n",
    "                 \"Work with Python Data Structures  (CO3, CO5)\",\"Interact with Python Notebooks (CO1, CO2, CO3, CO5)\",\"Use Git to manage source code. (CO2)\",\"Visualize common types of data with Matplotlib. (CO2, CO6)\",\"Explain conclusions drawn from visualizations. (CO6)\"\n",
    "                                              ,\"Describe how to embed advanced visualizations in Notebooks, such as those in D3.js. (CO1, CO3, CO5, CO6)\",\"Describe the characteristics of JSON. (CO3)\",\"Describe a basic Natural Language Processing Pipeline. (CO4)\",\"Access web-based APIs for data. (CO2, CO3)\"\n",
    "                                               ,\"Apply basic NLP and visualize result. (CO3, CO5, CO6)\",\"Describe the characteristics of XML/HTML and CSS. (CO3)\",\"Identify elements of a web page. (CO3)\",\"Build on core course concepts though the final project. (CO1, CO2, CO3, CO4, CO5, CO6)\"]}\n",
    "print(Current_Class)\n",
    "                 "
   ]
  },
  {
   "cell_type": "markdown",
   "metadata": {},
   "source": [
    "8.  Given the dictionary defined in the code cell below, print the list of level 3 spells the character has."
   ]
  },
  {
   "cell_type": "code",
   "execution_count": 6,
   "metadata": {},
   "outputs": [
    {
     "name": "stdout",
     "output_type": "stream",
     "text": [
      "Level 3 Spells for Kitab : ['Mass Healing Word', 'Nondetection', 'Revivify', 'Feign Death', 'Speak with Dead']\n"
     ]
    }
   ],
   "source": [
    "# Dictionary we started with \n",
    "player_character = {'name': 'Kitab',\n",
    "                   'class': [('Cleric: Knowledge', 7)],\n",
    "                   'spells': {'cantrip': ['Guidance', 'Light', 'Thaumaturgy', 'Toll the Dead', 'Word of Radiance'],\n",
    "                             'level 1': ['Command', 'Detect Magic', 'Healing Word', 'Identify', 'Sleep'],\n",
    "                             'level 2': ['Augury', 'Calm Emotions', 'Command', 'Invisibility', 'Lesser Restoration'],\n",
    "                             'level 3': ['Mass Healing Word', 'Nondetection', 'Revivify', 'Feign Death', 'Speak with Dead'],\n",
    "                             'level 4': ['Banishment', 'Confusion']}\n",
    "                   }\n",
    "#Defining the variables I would like to output\n",
    "character_name = player_character['name']\n",
    "level_3_spells = player_character['spells']['level 3']\n",
    "# Printing those variables \n",
    "print(\"Level 3 Spells for\", character_name,\":\", level_3_spells)\n",
    "\n"
   ]
  },
  {
   "cell_type": "markdown",
   "metadata": {},
   "source": [
    "9. Write code to determine the number of unique elements in the list below.  You MUST use a set in finding your solution.  Print the number of unique values in the list with an appropriate label."
   ]
  },
  {
   "cell_type": "code",
   "execution_count": 12,
   "metadata": {},
   "outputs": [
    {
     "name": "stdout",
     "output_type": "stream",
     "text": [
      "The number of unique values is: 12\n"
     ]
    }
   ],
   "source": [
    "#Original List\n",
    "values = [10, 11, 10, 8, 1, 12, 0, 1, 6, 5, 5, 13, 6, 15, 0, 0, 1, 1, 9, 7]\n",
    "#Defining Unique values \n",
    "unique = set(values)\n",
    "#Number of unique values \n",
    "num_unique = len(unique)\n",
    "#Print statement\n",
    "print(\"The number of unique values is:\", num_unique)\n"
   ]
  },
  {
   "cell_type": "markdown",
   "metadata": {},
   "source": [
    "10. Create a new Jupyter Notebook (the name of the notebook should be your S number). Add a Markdown cell that contains your name. Add a Code cell and write Python that uses loops to draw the following pattern:\n",
    "\n",
    "```\n",
    "*      *\n",
    "**    **\n",
    "***  ***\n",
    "********\n",
    "```\n",
    "Make sure to add and submit both the new notebook and the changes to this notebook for this assignment."
   ]
  },
  {
   "cell_type": "markdown",
   "metadata": {},
   "source": [
    "see answer in notebook http://localhost:8888/lab/tree/Documents/git/python-ds-nb/%20S545788.ipynb\n"
   ]
  },
  {
   "cell_type": "code",
   "execution_count": null,
   "metadata": {},
   "outputs": [],
   "source": []
  }
 ],
 "metadata": {
  "kernelspec": {
   "display_name": "Python 3 (ipykernel)",
   "language": "python",
   "name": "python3"
  },
  "language_info": {
   "codemirror_mode": {
    "name": "ipython",
    "version": 3
   },
   "file_extension": ".py",
   "mimetype": "text/x-python",
   "name": "python",
   "nbconvert_exporter": "python",
   "pygments_lexer": "ipython3",
   "version": "3.12.2"
  }
 },
 "nbformat": 4,
 "nbformat_minor": 4
}
