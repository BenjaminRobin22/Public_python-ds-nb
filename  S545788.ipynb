{
 "cells": [
  {
   "cell_type": "markdown",
   "id": "c2ba846a-64d3-4db6-957f-625673870602",
   "metadata": {},
   "source": [
    "# Ben Robin New Notebook S545788"
   ]
  },
  {
   "cell_type": "markdown",
   "id": "042bbdeb-fb76-4c94-a349-b49604a71b43",
   "metadata": {},
   "source": [
    "Create a new Jupyter Notebook (the name of the notebook should be your S number). Add a Markdown cell that contains your name. Add a Code cell and write Python that uses loops to draw the following pattern:\n",
    "*      *\n",
    "**    **\n",
    "***  ***\n",
    "********\n",
    "Make sure to add and submit both the new notebook and the changes to this notebook for this assignment."
   ]
  },
  {
   "cell_type": "code",
   "execution_count": 1,
   "id": "746aa2d4-7157-473d-a822-a6f697cad1f1",
   "metadata": {},
   "outputs": [
    {
     "name": "stdout",
     "output_type": "stream",
     "text": [
      "*      *\n",
      "**    **\n",
      "***  ***\n",
      "********\n"
     ]
    }
   ],
   "source": [
    "# there are 4 rows in this visual \n",
    "rows = 4\n",
    "# set the range \n",
    "for i in range(1, rows + 1):\n",
    "    # Draw left half\n",
    "    for j in range(1, i + 1):\n",
    "        print(\"*\", end=\"\")\n",
    "    \n",
    "    # Draw spaces\n",
    "    for k in range(2 * rows - 2 * i):\n",
    "        print(\" \", end=\"\")\n",
    "    \n",
    "    # Draw right half\n",
    "    for l in range(1, i + 1):\n",
    "        print(\"*\", end=\"\")\n",
    "    \n",
    "    print()"
   ]
  },
  {
   "cell_type": "code",
   "execution_count": null,
   "id": "f035b2de-e786-4c02-8d74-5304f4111294",
   "metadata": {},
   "outputs": [],
   "source": []
  }
 ],
 "metadata": {
  "kernelspec": {
   "display_name": "Python 3 (ipykernel)",
   "language": "python",
   "name": "python3"
  },
  "language_info": {
   "codemirror_mode": {
    "name": "ipython",
    "version": 3
   },
   "file_extension": ".py",
   "mimetype": "text/x-python",
   "name": "python",
   "nbconvert_exporter": "python",
   "pygments_lexer": "ipython3",
   "version": "3.12.2"
  }
 },
 "nbformat": 4,
 "nbformat_minor": 5
}
